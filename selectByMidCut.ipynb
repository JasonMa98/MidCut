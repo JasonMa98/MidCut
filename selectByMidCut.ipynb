{
 "cells": [
  {
   "cell_type": "code",
   "execution_count": 4,
   "metadata": {},
   "outputs": [],
   "source": [
    "from PIL import Image, ImageFilter,ImageDraw\n",
    "import math\n",
    "import csv\n",
    "from glob import glob\n",
    "import os"
   ]
  },
  {
   "cell_type": "code",
   "execution_count": 2,
   "metadata": {},
   "outputs": [],
   "source": [
    "def median_cut(color_list,depth):\n",
    "    '''一分为二的情况'''\n",
    "    if(depth==1):\n",
    "        sumr=0\n",
    "        sumg=0\n",
    "        sumb=0\n",
    "        for i in color_list:\n",
    "            r,g,b=i\n",
    "            sumr+=r\n",
    "            sumb+=b\n",
    "            sumg+=g\n",
    "        sumr=int(math.ceil(sumr/len(color_list)))\n",
    "        sumg=int(math.ceil(sumg/len(color_list)))\n",
    "        sumb=int(math.ceil(sumb/len(color_list)))\n",
    "        '''sumr,sumg,sumb为映射的r，g，b；len(color_list)为这个块中的像素个数'''\n",
    "        lut.append((sumr,sumg,sumb,len(color_list)))\n",
    "        return 0\n",
    "\n",
    "\n",
    "    \n",
    "    red=[]\n",
    "    blue=[]\n",
    "    green=[]\n",
    "    '''收集图片中RGB，每个通道的数值的list'''\n",
    "    for i in color_list:\n",
    "        r, g, b=i\n",
    "        red.append(r)\n",
    "        blue.append(b)\n",
    "        green.append(g)\n",
    "        \n",
    "    '''计算每个通道数值的length'''\n",
    "    diffr=max(red)-min(red)\n",
    "    diffb=max(blue)-min(blue)\n",
    "    diffg=max(green)-min(green)\n",
    "    \n",
    "    '''根据分布length最长的那个通道，对所有像素值进行排序'''\n",
    "    if(max(diffg,diffb,diffr)==diffr):\n",
    "        color_list.sort(key=lambda x: x[0])\n",
    "    elif(max(diffg,diffb,diffr)==diffb):\n",
    "        color_list.sort(key=lambda x: x[1])\n",
    "    else:\n",
    "        color_list.sort(key=lambda x: x[2])\n",
    "        \n",
    "    '''按中位数切割（递归）'''\n",
    "    mid=len(color_list)/2\n",
    "    mid=int(mid)    \n",
    "    median_cut(color_list[:mid],depth-1)\n",
    "    median_cut(color_list[mid:],depth-1)\n"
   ]
  },
  {
   "cell_type": "code",
   "execution_count": 3,
   "metadata": {},
   "outputs": [],
   "source": [
    "'''长边缩放100的方法'''\n",
    "def ZoomImgTo100(img):\n",
    "    (w,h)=img.size\n",
    "    if w>h:\n",
    "        h=int(h*100/w)\n",
    "        w=100\n",
    "    else:\n",
    "        w=int(w*100/h)\n",
    "        h=100\n",
    "    img=img.resize((w,h))\n",
    "    return img"
   ]
  },
  {
   "cell_type": "code",
   "execution_count": 16,
   "metadata": {},
   "outputs": [
    {
     "name": "stdout",
     "output_type": "stream",
     "text": [
      "./data/0.jpeg\n",
      "./data/1.jpeg\n",
      "./data/2.jpeg\n",
      "./data/3.jpeg\n"
     ]
    }
   ],
   "source": [
    "\n",
    "des='./out'\n",
    "'''获取图片列表'''\n",
    "img_list=glob('./data/*jpeg')\n",
    "for item in img_list:\n",
    "    '''中位切分后的颜色列表'''\n",
    "    lut=[]\n",
    "    '''图片的颜色列表'''\n",
    "    image_color=[]\n",
    "    '''打开图片'''\n",
    "    img = Image.open(item)\n",
    "    '''将图片长边缩放到100'''\n",
    "    new_img=ZoomImgTo100(img)\n",
    "    '''将图片转换到rgb通道'''\n",
    "    rgb_img = new_img.convert('RGB')\n",
    "    '''获取图片长宽'''\n",
    "    width, height = rgb_img.size\n",
    "    \n",
    "    for i in range(width):\n",
    "        for j in range(height):\n",
    "            image_color.append(rgb_img.getpixel((i, j)))\n",
    "    \n",
    "    \n",
    "    '''中位切分'''\n",
    "    median_cut(image_color,depth=5)\n",
    "    '''判断是否有绿色'''\n",
    "    for (r,g,b,count) in lut:\n",
    "        if(g>b+20 and g>r+20):\n",
    "            img.save(os.path.join(des,item.split('/')[-1]))\n",
    "            print(item)\n",
    "            break\n",
    "        "
   ]
  }
 ],
 "metadata": {
  "kernelspec": {
   "display_name": "Python 3",
   "language": "python",
   "name": "python3"
  },
  "language_info": {
   "codemirror_mode": {
    "name": "ipython",
    "version": 3
   },
   "file_extension": ".py",
   "mimetype": "text/x-python",
   "name": "python",
   "nbconvert_exporter": "python",
   "pygments_lexer": "ipython3",
   "version": "3.7.4"
  }
 },
 "nbformat": 4,
 "nbformat_minor": 2
}
